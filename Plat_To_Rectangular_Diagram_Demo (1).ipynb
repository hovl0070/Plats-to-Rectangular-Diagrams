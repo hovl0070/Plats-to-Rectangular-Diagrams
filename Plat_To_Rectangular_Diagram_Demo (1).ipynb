{
 "cells": [
  {
   "cell_type": "markdown",
   "id": "90b2a6",
   "metadata": {
    "collapsed": false
   },
   "source": [
    "## Plat to Rectangular Diagram Demo\n",
    "\n"
   ]
  },
  {
   "cell_type": "code",
   "execution_count": 1,
   "id": "4f8ada",
   "metadata": {
    "collapsed": false
   },
   "outputs": [
   ],
   "source": [
    "############################### Initization #########################################################################\n",
    "from GridPyM import *  \n",
    "#These functions are used to plot our rectangular diagrams, simplify and convert rectangular diagrams to closed braids.  There are a lot of beautiful functions here.  It is availible on GitHub https://github.com/agnesedaniele/GridPythonModule and is the state of the art for a lot of rectangular diagram computations\n",
    "\n",
    "load('Plat_to_Rectangular_Diagram.sage') \n",
    "#This is the code that takes a plat closure to a rectangular diagram.  It takes any braid word corresponding to the plat closure of a link and gives a rectangular diagram. The output is a grid diagram ready for use with the GridPyM functions.  This is availible on GitHub at \n",
    "\n",
    "from snappy import *\n",
    "from spherogram import ClosedBraid\n",
    "# The above functions are sage built-ins and are used for converting rectangular diagrams to closed braid objects, and computing knot invariants. \n",
    "from sage.all import *"
   ]
  },
  {
   "cell_type": "code",
   "execution_count": 2,
   "id": "939726",
   "metadata": {
    "collapsed": false
   },
   "outputs": [
    {
     "data": {
      "image/png": "[encoded data removed]",
      "text/plain": [
       "<Figure size 640x480 with 1 Axes>"
      ]
     },
     "execution_count": 2,
     "metadata": {
     },
     "output_type": "execute_result"
    }
   ],
   "source": [
    "W=[-2,-2,1,1,-3,-3,2,2,2] # This braid word is the plat closure of the Goertiz Unknot\n",
    "G=Plat_to_Rectangular_Diagram(W) #This function takes the above braid word, finds its left_greedy_form, removes the garside elements and provides a positive ``reduced`` braid word.  This whole process has not changed the link type.  But now corresponds to a grid diagram.  This is returned as G\n",
    "draw_grid(G, markings='XO')  #this function is from GridPyM"
   ]
  },
  {
   "cell_type": "code",
   "execution_count": 3,
   "id": "6debec",
   "metadata": {
    "collapsed": false
   },
   "outputs": [
    {
     "name": "stdout",
     "output_type": "stream",
     "text": [
      "This knot can be represented as the following closed braid:\n",
      "\n",
      " [9, 8, 7, 6, 5, -6, 8, 7, -6, 5, 4, -5, 4, 3, 2, -3, -4, -3, -4, 2, -2, -1, -2]\n",
      "This knot has the following properties (knot floer homology calculations):\n",
      "\n",
      " {'L_space_knot': True, 'epsilon': 0, 'fibered': True, 'modulus': 2, 'nu': 0, 'ranks': {(0, 0): 1}, 'seifert_genus': 0, 'tau': 0, 'total_rank': 1}\n",
      "This knot has Jones Polynomial:\n",
      "\n",
      " 1\n"
     ]
    },
    {
     "name": "stdout",
     "output_type": "stream",
     "text": [
      "The knot exterior has volume:\n",
      "\n",
      " -8.15080048954808e-7\n"
     ]
    }
   ],
   "source": [
    "#Once we have a grid diagram G representing our plat closure, we can convert this to a closed braid representation using the convert_to_braid() function in Grid.PyM\n",
    "closed_braid=convert_to_braid(G)\n",
    "print('This knot can be represented as the following closed braid:\\n\\n',closed_braid)\n",
    "\n",
    "#Once you have the closed braid representation we can use snappy to compute knot invariants of the closed braid\n",
    "Braid1 = ClosedBraid(closed_braid)\n",
    "Braid1.simplify()\n",
    "print('This knot has the following properties (knot floer homology calculations):\\n\\n',Braid1.knot_floer_homology())\n",
    "\n",
    "print('This knot has Jones Polynomial:\\n\\n',Braid1.jones_polynomial())  \n",
    "\n",
    "#Below gives the knot volume.\n",
    "E = Braid1.exterior()\n",
    "print('The knot exterior has volume:\\n\\n',E.volume())  "
   ]
  },
  {
   "cell_type": "code",
   "execution_count": 4,
   "id": "5f064c",
   "metadata": {
    "collapsed": false
   },
   "outputs": [
    {
     "name": "stdout",
     "output_type": "stream",
     "text": [
      "This link has the following properties (knot floer homology calculations):\n",
      "\n",
      " {'L_space_knot': False, 'epsilon': 1, 'fibered': True, 'modulus': 2, 'nu': 1, 'ranks': {(-4, -5): 1, (-3, -4): 4, (-3, -3): 1, (-2, -3): 7, (-2, -2): 4, (-1, -2): 7, (-1, -1): 7, (0, -1): 5, (0, 0): 8, (1, 0): 7, (1, 1): 7, (2, 1): 7, (2, 2): 4, (3, 2): 4, (3, 3): 1, (4, 3): 1}, 'seifert_genus': 4, 'tau': 1, 'total_rank': 75}\n",
      "The knot exterior has volume:\n",
      "\n",
      " 16.0754473877759\n"
     ]
    }
   ],
   "source": [
    "#In this cell are the computations used in Example 4.1 of the paper Carolyn and I wrote https://arxiv.org/abs/2410.17443\n",
    "\n",
    "x=[2,2,4,1,3,5,2] #this is the original braid word in Example 4.1\n",
    "tempList = list(x)\n",
    "count = 5          #These are the powers that we want to test.  We do 1, 5, 7, 11 etc.\n",
    "for i in range(count-1):\n",
    "    for element in tempList:\n",
    "        x.append(element)     \n",
    "#at this stage there are ''count'' copies of the braid word x, so its the braid to the ''count'' power       \n",
    "\n",
    "G=Plat_to_Rectangular_Diagram(x)\n",
    "#draw_grid(G, markings='XO')\n",
    "closed_braid=convert_to_braid(G)\n",
    "#print('This knot can be represented as the following closed braid:\\n\\n',closed_braid)\n",
    "\n",
    "#Once you have the closed braid representation we can use snappy to compute knot invariants of the closed braid\n",
    "Braid1 = ClosedBraid(closed_braid)\n",
    "Braid1.simplify()\n",
    "\n",
    "\n",
    "#The major slow-down is of course computing the following invariants.  It took too long for count=11... Maybe some more computing power someday! \n",
    "\n",
    "#Uncomment at your own risk!  \n",
    "\n",
    "print('This link has the following properties (knot floer homology calculations):\\n\\n',Braid1.knot_floer_homology())\n",
    "\n",
    "#print('This link has Jones Polynomial:\\n\\n',Braid1.jones_polynomial())  \n",
    "\n",
    "\n",
    "\n",
    "#Below gives the knot volume.\n",
    "E = Braid1.exterior()\n",
    "print('The knot exterior has volume:\\n\\n',E.volume())  \n"
   ]
  },
  {
   "cell_type": "code",
   "execution_count": 5,
   "id": "366bc8",
   "metadata": {
    "collapsed": false
   },
   "outputs": [
    {
     "name": "stdout",
     "output_type": "stream",
     "text": [
      "The knot exterior has volume:\n",
      "\n",
      " 28.7540909704326\n"
     ]
    }
   ],
   "source": [
    "#In this cell are the computations used in Example 4.2 of the paper Carolyn and I wrote https://arxiv.org/abs/2410.17443\n",
    "\n",
    "x=[2,2,2,4,4,4,-1,-1,-1,-3,-3,-3,-5,-5,-5,2,2,2,4,4,4] #this is the original braid word in Example 4.2\n",
    "tempList = list(x)\n",
    "count = 1          #These are the powers that we want to test.  We do 1, 3, 5, 7 etc.\n",
    "for i in range(count-1):\n",
    "    for element in tempList:\n",
    "        x.append(element)     \n",
    "#at this stage there are ''count'' copies of the braid word x, so its the braid to the ''count'' power       \n",
    "\n",
    "G=Plat_to_Rectangular_Diagram(x)\n",
    "#draw_grid(G, markings='XO')\n",
    "closed_braid=convert_to_braid(G)\n",
    "#print('This knot can be represented as the following closed braid:\\n\\n',closed_braid)\n",
    "\n",
    "#Once you have the closed braid representation we can use snappy to compute knot invariants of the closed braid\n",
    "Braid1 = ClosedBraid(closed_braid)\n",
    "Braid1.simplify()\n",
    "\n",
    "\n",
    "#The major slow-down is of course computing the following invariants.  It took too long for count=11... Maybe some more computing power someday! \n",
    "\n",
    "#Uncomment at your own risk!  \n",
    "\n",
    "#print('This link has the following properties (knot floer homology calculations):\\n\\n',Braid1.knot_floer_homology())\n",
    "\n",
    "#print('This link has Jones Polynomial:\\n\\n',Braid1.jones_polynomial())  \n",
    "\n",
    "\n",
    "#Below gives the knot volume.\n",
    "E = Braid1.exterior()\n",
    "print('The knot exterior has volume:\\n\\n',E.volume())  "
   ]
  }
 ],
 "metadata": {
  "kernelspec": {
   "argv": [
    "sage-10.1",
    "--python",
    "-m",
    "sage.repl.ipython_kernel",
    "--matplotlib=inline",
    "-f",
    "{connection_file}"
   ],
   "display_name": "SageMath 10.1",
   "env": {
   },
   "language": "sagemath",
   "metadata": {
    "cocalc": {
     "description": "Open-source mathematical software system",
     "priority": 2,
     "url": "https://www.sagemath.org/"
    }
   },
   "name": "sage-10.1",
   "resource_dir": "/ext/jupyter/kernels/sage-10.1"
  },
  "language_info": {
   "codemirror_mode": {
    "name": "ipython",
    "version": 3
   },
   "file_extension": ".py",
   "mimetype": "text/x-python",
   "name": "python",
   "nbconvert_exporter": "python",
   "pygments_lexer": "ipython3",
   "version": "3.11.1"
  }
 },
 "nbformat": 4,
 "nbformat_minor": 4
}